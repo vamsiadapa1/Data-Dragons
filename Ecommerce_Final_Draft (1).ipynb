{
  "nbformat": 4,
  "nbformat_minor": 0,
  "metadata": {
    "colab": {
      "provenance": []
    },
    "kernelspec": {
      "name": "python3",
      "display_name": "Python 3"
    },
    "language_info": {
      "name": "python"
    }
  },
  "cells": [
    {
      "cell_type": "code",
      "source": [
        "pip install pyspark"
      ],
      "metadata": {
        "colab": {
          "base_uri": "https://localhost:8080/"
        },
        "id": "e7gbbqAdO241",
        "outputId": "b2c20414-a539-4da6-b947-f32ff74cf611"
      },
      "execution_count": 1,
      "outputs": [
        {
          "output_type": "stream",
          "name": "stdout",
          "text": [
            "Collecting pyspark\n",
            "  Downloading pyspark-3.5.0.tar.gz (316.9 MB)\n",
            "\u001b[2K     \u001b[90m━━━━━━━━━━━━━━━━━━━━━━━━━━━━━━━━━━━━━━━━\u001b[0m \u001b[32m316.9/316.9 MB\u001b[0m \u001b[31m3.4 MB/s\u001b[0m eta \u001b[36m0:00:00\u001b[0m\n",
            "\u001b[?25h  Preparing metadata (setup.py) ... \u001b[?25l\u001b[?25hdone\n",
            "Requirement already satisfied: py4j==0.10.9.7 in /usr/local/lib/python3.10/dist-packages (from pyspark) (0.10.9.7)\n",
            "Building wheels for collected packages: pyspark\n",
            "  Building wheel for pyspark (setup.py) ... \u001b[?25l\u001b[?25hdone\n",
            "  Created wheel for pyspark: filename=pyspark-3.5.0-py2.py3-none-any.whl size=317425344 sha256=3c81ec5a5919e1b0e856cbc1048b064bf3163b652eded2db96cfb339513fe0bb\n",
            "  Stored in directory: /root/.cache/pip/wheels/41/4e/10/c2cf2467f71c678cfc8a6b9ac9241e5e44a01940da8fbb17fc\n",
            "Successfully built pyspark\n",
            "Installing collected packages: pyspark\n",
            "Successfully installed pyspark-3.5.0\n"
          ]
        }
      ]
    },
    {
      "cell_type": "code",
      "source": [
        "#Creating spark session\n",
        "from pyspark.sql import SparkSession\n",
        "spark = SparkSession.builder.getOrCreate()"
      ],
      "metadata": {
        "id": "dMfK6ez0mGz7"
      },
      "execution_count": 2,
      "outputs": []
    },
    {
      "cell_type": "code",
      "source": [
        "#Create Spark Dataraframe and reading data using Dataframe reader API\n",
        "ecommerce_df= spark.read.format('csv').option('header',True).load(\"/content/ecommerce.csv\")\n",
        "ecommerce_df.printSchema()"
      ],
      "metadata": {
        "colab": {
          "base_uri": "https://localhost:8080/"
        },
        "id": "wShHuss7rWdV",
        "outputId": "de7e0641-cdb8-4a3a-f96f-f600d32888e0"
      },
      "execution_count": 3,
      "outputs": [
        {
          "output_type": "stream",
          "name": "stdout",
          "text": [
            "root\n",
            " |-- Customer ID: string (nullable = true)\n",
            " |-- Purchase Date: string (nullable = true)\n",
            " |-- Product Category: string (nullable = true)\n",
            " |-- Product Price: string (nullable = true)\n",
            " |-- Quantity: string (nullable = true)\n",
            " |-- Total Purchase Amount: string (nullable = true)\n",
            " |-- Payment Method: string (nullable = true)\n",
            " |-- Customer Age: string (nullable = true)\n",
            " |-- Returns: string (nullable = true)\n",
            " |-- Customer Name: string (nullable = true)\n",
            " |-- Age: string (nullable = true)\n",
            " |-- Gender: string (nullable = true)\n",
            " |-- Churn: string (nullable = true)\n",
            "\n"
          ]
        }
      ]
    },
    {
      "cell_type": "markdown",
      "source": [
        "#Data_Preprocessing"
      ],
      "metadata": {
        "id": "A3tUCzME0PW4"
      }
    },
    {
      "cell_type": "code",
      "source": [
        "#Validating the schema of the Dataframe using inferSchema function\n",
        "ecommerce_df= spark.read.format('csv').option('inferSchema',True).option('header',True).load(\"/content/ecommerce.csv\")\n",
        "ecommerce_df.show()"
      ],
      "metadata": {
        "colab": {
          "base_uri": "https://localhost:8080/"
        },
        "id": "O8xxNEiEmJRD",
        "outputId": "738c7cb4-aa54-4ee9-d010-5ddab9773621"
      },
      "execution_count": 4,
      "outputs": [
        {
          "output_type": "stream",
          "name": "stdout",
          "text": [
            "+-----------+-------------------+----------------+-------------+--------+---------------------+--------------+------------+-------+-------------------+---+------+-----+\n",
            "|Customer ID|      Purchase Date|Product Category|Product Price|Quantity|Total Purchase Amount|Payment Method|Customer Age|Returns|      Customer Name|Age|Gender|Churn|\n",
            "+-----------+-------------------+----------------+-------------+--------+---------------------+--------------+------------+-------+-------------------+---+------+-----+\n",
            "|      46251|2020-09-08 09:38:32|     Electronics|           12|       3|                  740|   Credit Card|          37|    0.0|Christine Hernandez| 37|  Male|    0|\n",
            "|      46251|2022-03-05 12:56:35|            Home|          468|       4|                 2739|        PayPal|          37|    0.0|Christine Hernandez| 37|  Male|    0|\n",
            "|      46251|2022-05-23 18:18:01|            Home|          288|       2|                 3196|        PayPal|          37|    0.0|Christine Hernandez| 37|  Male|    0|\n",
            "|      46251|2020-11-12 13:13:29|        Clothing|          196|       1|                 3509|        PayPal|          37|    0.0|Christine Hernandez| 37|  Male|    0|\n",
            "|      13593|2020-11-27 17:55:11|            Home|          449|       1|                 3452|   Credit Card|          49|    0.0|        James Grant| 49|Female|    1|\n",
            "|      13593|2023-03-07 14:17:42|            Home|          250|       4|                  575|        PayPal|          49|    1.0|        James Grant| 49|Female|    1|\n",
            "|      13593|2023-04-15 03:02:33|     Electronics|           73|       1|                 1896|   Credit Card|          49|    0.0|        James Grant| 49|Female|    1|\n",
            "|      13593|2021-03-27 21:23:28|           Books|          337|       2|                 2937|          Cash|          49|    0.0|        James Grant| 49|Female|    1|\n",
            "|      13593|2020-05-05 20:14:00|        Clothing|          182|       2|                 3363|        PayPal|          49|    1.0|        James Grant| 49|Female|    1|\n",
            "|      28805|2023-09-13 04:24:00|     Electronics|          394|       2|                 1993|   Credit Card|          19|    0.0|       Jose Collier| 19|  Male|    0|\n",
            "|      28805|2021-03-31 09:50:57|        Clothing|          366|       1|                  246|        PayPal|          19|    0.0|       Jose Collier| 19|  Male|    0|\n",
            "|      28805|2021-01-18 22:42:24|           Books|          348|       1|                 2682|   Credit Card|          19|    1.0|       Jose Collier| 19|  Male|    0|\n",
            "|      28805|2020-01-07 12:57:35|           Books|          103|       4|                  731|          Cash|          19|    0.0|       Jose Collier| 19|  Male|    0|\n",
            "|      28805|2021-02-12 20:33:20|           Books|          240|       1|                 2563|        PayPal|          19|    0.0|       Jose Collier| 19|  Male|    0|\n",
            "|      28805|2020-07-02 02:54:37|        Clothing|          368|       1|                 1342|   Credit Card|          19|   NULL|       Jose Collier| 19|  Male|    0|\n",
            "|      28961|2021-04-25 23:55:21|           Books|           30|       1|                 4135|        PayPal|          55|   NULL|        James Stein| 55|  Male|    0|\n",
            "|      28961|2020-01-13 09:57:17|           Books|          153|       5|                  698|   Credit Card|          55|    0.0|        James Stein| 55|  Male|    0|\n",
            "|      28961|2023-06-18 21:34:27|        Clothing|          259|       1|                 2975|   Credit Card|          55|    0.0|        James Stein| 55|  Male|    0|\n",
            "|      28961|2021-09-10 00:39:41|           Books|          489|       3|                 2213|   Credit Card|          55|    1.0|        James Stein| 55|  Male|    0|\n",
            "|      28961|2023-06-01 19:07:10|           Books|          232|       3|                 4452|        PayPal|          55|    1.0|        James Stein| 55|  Male|    0|\n",
            "+-----------+-------------------+----------------+-------------+--------+---------------------+--------------+------------+-------+-------------------+---+------+-----+\n",
            "only showing top 20 rows\n",
            "\n"
          ]
        }
      ]
    },
    {
      "cell_type": "code",
      "source": [
        "#Checking the schema after validation\n",
        "ecommerce_df.printSchema()"
      ],
      "metadata": {
        "colab": {
          "base_uri": "https://localhost:8080/"
        },
        "id": "YmzvQEunmo1g",
        "outputId": "01f17ec2-84e0-4aa5-b787-8ae1e35caede"
      },
      "execution_count": 5,
      "outputs": [
        {
          "output_type": "stream",
          "name": "stdout",
          "text": [
            "root\n",
            " |-- Customer ID: integer (nullable = true)\n",
            " |-- Purchase Date: timestamp (nullable = true)\n",
            " |-- Product Category: string (nullable = true)\n",
            " |-- Product Price: integer (nullable = true)\n",
            " |-- Quantity: integer (nullable = true)\n",
            " |-- Total Purchase Amount: integer (nullable = true)\n",
            " |-- Payment Method: string (nullable = true)\n",
            " |-- Customer Age: integer (nullable = true)\n",
            " |-- Returns: double (nullable = true)\n",
            " |-- Customer Name: string (nullable = true)\n",
            " |-- Age: integer (nullable = true)\n",
            " |-- Gender: string (nullable = true)\n",
            " |-- Churn: integer (nullable = true)\n",
            "\n"
          ]
        }
      ]
    },
    {
      "cell_type": "code",
      "source": [
        "#Describing the properties of the data\n",
        "ecommerce_df.describe().show()"
      ],
      "metadata": {
        "colab": {
          "base_uri": "https://localhost:8080/"
        },
        "id": "_dx31h1Dn_C9",
        "outputId": "853b0645-ea20-49df-a8df-3313ef1c74ef"
      },
      "execution_count": 6,
      "outputs": [
        {
          "output_type": "stream",
          "name": "stdout",
          "text": [
            "+-------+------------------+----------------+------------------+------------------+---------------------+--------------+------------------+-------------------+-------------+------------------+------+------------------+\n",
            "|summary|       Customer ID|Product Category|     Product Price|          Quantity|Total Purchase Amount|Payment Method|      Customer Age|            Returns|Customer Name|               Age|Gender|             Churn|\n",
            "+-------+------------------+----------------+------------------+------------------+---------------------+--------------+------------------+-------------------+-------------+------------------+------+------------------+\n",
            "|  count|            250000|          250000|            250000|            250000|               250000|        250000|            250000|             202404|       250000|            250000|250000|            250000|\n",
            "|   mean|       25004.03624|            NULL|        254.659512|          2.998896|          2725.370732|          NULL|         43.940528| 0.4978607142151341|         NULL|         43.940528|  NULL|          0.199496|\n",
            "| stddev|14428.279590495229|            NULL|141.56857683317227|1.4146938844213401|    1442.933565084301|          NULL|15.350246304260455|0.49999665858211023|         NULL|15.350246304260455|  NULL|0.3996223026508148|\n",
            "|    min|                 1|           Books|                10|                 1|                  100|          Cash|                18|                0.0| Aaron Acosta|                18|Female|                 0|\n",
            "|    max|             50000|            Home|               500|                 5|                 5350|        PayPal|                70|                1.0|   Zoe Lucero|                70|  Male|                 1|\n",
            "+-------+------------------+----------------+------------------+------------------+---------------------+--------------+------------------+-------------------+-------------+------------------+------+------------------+\n",
            "\n"
          ]
        }
      ]
    },
    {
      "cell_type": "code",
      "source": [
        "#Renaming the column names using the ColumnRenamed\n",
        "ecommerce_df = ecommerce_df.withColumnRenamed(\"Customer ID\", \"Customer_ID\").withColumnRenamed(\"Purchase Date\", \"Purchase_Date\")\\\n",
        ".withColumnRenamed(\"Product Category\",\"Product_Category\")\\\n",
        ".withColumnRenamed(\"Product Price\",\"Product_Price\")\\\n",
        ".withColumnRenamed(\"Total Purchase Amount\",\"Total_Purchase_Amount\")\\\n",
        ".withColumnRenamed(\"Payment Method\",\"Payment_Method\")\\\n",
        ".withColumnRenamed(\"Customer Age\", \"Customer_Age\")\\\n",
        ".withColumnRenamed(\"Customer Name\", \"Customer_Name\")\n",
        "\n",
        "ecommerce_df.show()"
      ],
      "metadata": {
        "colab": {
          "base_uri": "https://localhost:8080/"
        },
        "id": "AunkA5EzsEvf",
        "outputId": "1316aba2-69b0-4ade-c5ce-f3bb57c7d4e4"
      },
      "execution_count": 7,
      "outputs": [
        {
          "output_type": "stream",
          "name": "stdout",
          "text": [
            "+-----------+-------------------+----------------+-------------+--------+---------------------+--------------+------------+-------+-------------------+---+------+-----+\n",
            "|Customer_ID|      Purchase_Date|Product_Category|Product_Price|Quantity|Total_Purchase_Amount|Payment_Method|Customer_Age|Returns|      Customer_Name|Age|Gender|Churn|\n",
            "+-----------+-------------------+----------------+-------------+--------+---------------------+--------------+------------+-------+-------------------+---+------+-----+\n",
            "|      46251|2020-09-08 09:38:32|     Electronics|           12|       3|                  740|   Credit Card|          37|    0.0|Christine Hernandez| 37|  Male|    0|\n",
            "|      46251|2022-03-05 12:56:35|            Home|          468|       4|                 2739|        PayPal|          37|    0.0|Christine Hernandez| 37|  Male|    0|\n",
            "|      46251|2022-05-23 18:18:01|            Home|          288|       2|                 3196|        PayPal|          37|    0.0|Christine Hernandez| 37|  Male|    0|\n",
            "|      46251|2020-11-12 13:13:29|        Clothing|          196|       1|                 3509|        PayPal|          37|    0.0|Christine Hernandez| 37|  Male|    0|\n",
            "|      13593|2020-11-27 17:55:11|            Home|          449|       1|                 3452|   Credit Card|          49|    0.0|        James Grant| 49|Female|    1|\n",
            "|      13593|2023-03-07 14:17:42|            Home|          250|       4|                  575|        PayPal|          49|    1.0|        James Grant| 49|Female|    1|\n",
            "|      13593|2023-04-15 03:02:33|     Electronics|           73|       1|                 1896|   Credit Card|          49|    0.0|        James Grant| 49|Female|    1|\n",
            "|      13593|2021-03-27 21:23:28|           Books|          337|       2|                 2937|          Cash|          49|    0.0|        James Grant| 49|Female|    1|\n",
            "|      13593|2020-05-05 20:14:00|        Clothing|          182|       2|                 3363|        PayPal|          49|    1.0|        James Grant| 49|Female|    1|\n",
            "|      28805|2023-09-13 04:24:00|     Electronics|          394|       2|                 1993|   Credit Card|          19|    0.0|       Jose Collier| 19|  Male|    0|\n",
            "|      28805|2021-03-31 09:50:57|        Clothing|          366|       1|                  246|        PayPal|          19|    0.0|       Jose Collier| 19|  Male|    0|\n",
            "|      28805|2021-01-18 22:42:24|           Books|          348|       1|                 2682|   Credit Card|          19|    1.0|       Jose Collier| 19|  Male|    0|\n",
            "|      28805|2020-01-07 12:57:35|           Books|          103|       4|                  731|          Cash|          19|    0.0|       Jose Collier| 19|  Male|    0|\n",
            "|      28805|2021-02-12 20:33:20|           Books|          240|       1|                 2563|        PayPal|          19|    0.0|       Jose Collier| 19|  Male|    0|\n",
            "|      28805|2020-07-02 02:54:37|        Clothing|          368|       1|                 1342|   Credit Card|          19|   NULL|       Jose Collier| 19|  Male|    0|\n",
            "|      28961|2021-04-25 23:55:21|           Books|           30|       1|                 4135|        PayPal|          55|   NULL|        James Stein| 55|  Male|    0|\n",
            "|      28961|2020-01-13 09:57:17|           Books|          153|       5|                  698|   Credit Card|          55|    0.0|        James Stein| 55|  Male|    0|\n",
            "|      28961|2023-06-18 21:34:27|        Clothing|          259|       1|                 2975|   Credit Card|          55|    0.0|        James Stein| 55|  Male|    0|\n",
            "|      28961|2021-09-10 00:39:41|           Books|          489|       3|                 2213|   Credit Card|          55|    1.0|        James Stein| 55|  Male|    0|\n",
            "|      28961|2023-06-01 19:07:10|           Books|          232|       3|                 4452|        PayPal|          55|    1.0|        James Stein| 55|  Male|    0|\n",
            "+-----------+-------------------+----------------+-------------+--------+---------------------+--------------+------------+-------+-------------------+---+------+-----+\n",
            "only showing top 20 rows\n",
            "\n"
          ]
        }
      ]
    },
    {
      "cell_type": "code",
      "source": [
        "#Changing the Datatype of the Columns\n",
        "from pyspark.sql.types import IntegerType,BooleanType,DateType,DoubleType,TimestampType\n",
        "ecommerce_df = ecommerce_df.withColumn(\"Customer_ID\",ecommerce_df.Customer_ID.cast(IntegerType()))\n",
        "ecommerce_df = ecommerce_df.withColumn(\"Purchase_Date\",ecommerce_df.Purchase_Date.cast(TimestampType()))\n",
        "ecommerce_df = ecommerce_df.withColumn(\"Product_Price\",ecommerce_df.Product_Price.cast(IntegerType()))\n",
        "ecommerce_df = ecommerce_df.withColumn(\"Quantity\",ecommerce_df.Quantity.cast(IntegerType()))\n",
        "ecommerce_df = ecommerce_df.withColumn(\"Total_Purchase_Amount\",ecommerce_df.Total_Purchase_Amount.cast(IntegerType()))\n",
        "ecommerce_df = ecommerce_df.withColumn(\"Customer_Age\",ecommerce_df.Customer_Age.cast(IntegerType()))\n",
        "ecommerce_df = ecommerce_df.withColumn(\"Returns\",ecommerce_df.Returns.cast(DoubleType()))\n",
        "ecommerce_df = ecommerce_df.withColumn(\"Churn\",ecommerce_df.Churn.cast(IntegerType()))\n",
        "\n"
      ],
      "metadata": {
        "id": "4r339K85unkC"
      },
      "execution_count": 8,
      "outputs": []
    },
    {
      "cell_type": "code",
      "source": [
        "ecommerce_df.printSchema()"
      ],
      "metadata": {
        "colab": {
          "base_uri": "https://localhost:8080/"
        },
        "id": "7qOGvDrJ2Ayi",
        "outputId": "03e68787-83c6-4ef1-9868-1ffbc9c08a6b"
      },
      "execution_count": 9,
      "outputs": [
        {
          "output_type": "stream",
          "name": "stdout",
          "text": [
            "root\n",
            " |-- Customer_ID: integer (nullable = true)\n",
            " |-- Purchase_Date: timestamp (nullable = true)\n",
            " |-- Product_Category: string (nullable = true)\n",
            " |-- Product_Price: integer (nullable = true)\n",
            " |-- Quantity: integer (nullable = true)\n",
            " |-- Total_Purchase_Amount: integer (nullable = true)\n",
            " |-- Payment_Method: string (nullable = true)\n",
            " |-- Customer_Age: integer (nullable = true)\n",
            " |-- Returns: double (nullable = true)\n",
            " |-- Customer_Name: string (nullable = true)\n",
            " |-- Age: integer (nullable = true)\n",
            " |-- Gender: string (nullable = true)\n",
            " |-- Churn: integer (nullable = true)\n",
            "\n"
          ]
        }
      ]
    },
    {
      "cell_type": "code",
      "source": [
        "ecommerce_df.show()\n"
      ],
      "metadata": {
        "colab": {
          "base_uri": "https://localhost:8080/"
        },
        "id": "6uXPN9Mnd1mx",
        "outputId": "ff99deba-4948-4f0a-b0c0-6ee3665e0a17"
      },
      "execution_count": 10,
      "outputs": [
        {
          "output_type": "stream",
          "name": "stdout",
          "text": [
            "+-----------+-------------------+----------------+-------------+--------+---------------------+--------------+------------+-------+-------------------+---+------+-----+\n",
            "|Customer_ID|      Purchase_Date|Product_Category|Product_Price|Quantity|Total_Purchase_Amount|Payment_Method|Customer_Age|Returns|      Customer_Name|Age|Gender|Churn|\n",
            "+-----------+-------------------+----------------+-------------+--------+---------------------+--------------+------------+-------+-------------------+---+------+-----+\n",
            "|      46251|2020-09-08 09:38:32|     Electronics|           12|       3|                  740|   Credit Card|          37|    0.0|Christine Hernandez| 37|  Male|    0|\n",
            "|      46251|2022-03-05 12:56:35|            Home|          468|       4|                 2739|        PayPal|          37|    0.0|Christine Hernandez| 37|  Male|    0|\n",
            "|      46251|2022-05-23 18:18:01|            Home|          288|       2|                 3196|        PayPal|          37|    0.0|Christine Hernandez| 37|  Male|    0|\n",
            "|      46251|2020-11-12 13:13:29|        Clothing|          196|       1|                 3509|        PayPal|          37|    0.0|Christine Hernandez| 37|  Male|    0|\n",
            "|      13593|2020-11-27 17:55:11|            Home|          449|       1|                 3452|   Credit Card|          49|    0.0|        James Grant| 49|Female|    1|\n",
            "|      13593|2023-03-07 14:17:42|            Home|          250|       4|                  575|        PayPal|          49|    1.0|        James Grant| 49|Female|    1|\n",
            "|      13593|2023-04-15 03:02:33|     Electronics|           73|       1|                 1896|   Credit Card|          49|    0.0|        James Grant| 49|Female|    1|\n",
            "|      13593|2021-03-27 21:23:28|           Books|          337|       2|                 2937|          Cash|          49|    0.0|        James Grant| 49|Female|    1|\n",
            "|      13593|2020-05-05 20:14:00|        Clothing|          182|       2|                 3363|        PayPal|          49|    1.0|        James Grant| 49|Female|    1|\n",
            "|      28805|2023-09-13 04:24:00|     Electronics|          394|       2|                 1993|   Credit Card|          19|    0.0|       Jose Collier| 19|  Male|    0|\n",
            "|      28805|2021-03-31 09:50:57|        Clothing|          366|       1|                  246|        PayPal|          19|    0.0|       Jose Collier| 19|  Male|    0|\n",
            "|      28805|2021-01-18 22:42:24|           Books|          348|       1|                 2682|   Credit Card|          19|    1.0|       Jose Collier| 19|  Male|    0|\n",
            "|      28805|2020-01-07 12:57:35|           Books|          103|       4|                  731|          Cash|          19|    0.0|       Jose Collier| 19|  Male|    0|\n",
            "|      28805|2021-02-12 20:33:20|           Books|          240|       1|                 2563|        PayPal|          19|    0.0|       Jose Collier| 19|  Male|    0|\n",
            "|      28805|2020-07-02 02:54:37|        Clothing|          368|       1|                 1342|   Credit Card|          19|   NULL|       Jose Collier| 19|  Male|    0|\n",
            "|      28961|2021-04-25 23:55:21|           Books|           30|       1|                 4135|        PayPal|          55|   NULL|        James Stein| 55|  Male|    0|\n",
            "|      28961|2020-01-13 09:57:17|           Books|          153|       5|                  698|   Credit Card|          55|    0.0|        James Stein| 55|  Male|    0|\n",
            "|      28961|2023-06-18 21:34:27|        Clothing|          259|       1|                 2975|   Credit Card|          55|    0.0|        James Stein| 55|  Male|    0|\n",
            "|      28961|2021-09-10 00:39:41|           Books|          489|       3|                 2213|   Credit Card|          55|    1.0|        James Stein| 55|  Male|    0|\n",
            "|      28961|2023-06-01 19:07:10|           Books|          232|       3|                 4452|        PayPal|          55|    1.0|        James Stein| 55|  Male|    0|\n",
            "+-----------+-------------------+----------------+-------------+--------+---------------------+--------------+------------+-------+-------------------+---+------+-----+\n",
            "only showing top 20 rows\n",
            "\n"
          ]
        }
      ]
    },
    {
      "cell_type": "code",
      "source": [
        "from pyspark.sql.functions import col\n",
        "ecommerce_df.filter(ecommerce_df.Returns.isNull()).show()\n",
        "ecommerce_df.filter(ecommerce_df.Customer_Age.isNull()).show()\n",
        "ecommerce_df.filter(ecommerce_df.Customer_ID.isNull()).show()\n",
        "ecommerce_df.filter(ecommerce_df.Purchase_Date.isNull()).show()\n",
        "ecommerce_df.filter(ecommerce_df.Product_Category.isNull()).show()\n",
        "ecommerce_df.filter(ecommerce_df.Product_Price.isNull()).show()\n",
        "ecommerce_df.filter(ecommerce_df.Quantity.isNull()).show()\n",
        "ecommerce_df.filter(ecommerce_df.Total_Purchase_Amount.isNull()).show()\n",
        "ecommerce_df.filter(ecommerce_df.Payment_Method.isNull()).show()\n",
        "ecommerce_df.filter(ecommerce_df.Customer_Name.isNull()).show()\n",
        "ecommerce_df.filter(ecommerce_df.Age.isNull()).show()\n",
        "ecommerce_df.filter(ecommerce_df.Gender.isNull()).show()"
      ],
      "metadata": {
        "colab": {
          "base_uri": "https://localhost:8080/"
        },
        "id": "QpL5ISg-qVDX",
        "outputId": "858aa1a5-35e2-4491-c0b3-4cb1ca31e619"
      },
      "execution_count": 11,
      "outputs": [
        {
          "output_type": "stream",
          "name": "stdout",
          "text": [
            "+-----------+-------------------+----------------+-------------+--------+---------------------+--------------+------------+-------+----------------+---+------+-----+\n",
            "|Customer_ID|      Purchase_Date|Product_Category|Product_Price|Quantity|Total_Purchase_Amount|Payment_Method|Customer_Age|Returns|   Customer_Name|Age|Gender|Churn|\n",
            "+-----------+-------------------+----------------+-------------+--------+---------------------+--------------+------------+-------+----------------+---+------+-----+\n",
            "|      28805|2020-07-02 02:54:37|        Clothing|          368|       1|                 1342|   Credit Card|          19|   NULL|    Jose Collier| 19|  Male|    0|\n",
            "|      28961|2021-04-25 23:55:21|           Books|           30|       1|                 4135|        PayPal|          55|   NULL|     James Stein| 55|  Male|    0|\n",
            "|      12163|2021-12-18 17:49:18|        Clothing|          255|       2|                 1642|   Credit Card|          67|   NULL|    Sonia Moreno| 67|  Male|    0|\n",
            "|      12163|2020-06-20 05:56:17|           Books|          227|       3|                  887|        PayPal|          67|   NULL|    Sonia Moreno| 67|  Male|    0|\n",
            "|      12163|2023-07-01 12:36:00|           Books|           60|       3|                 4130|          Cash|          67|   NULL|    Sonia Moreno| 67|  Male|    0|\n",
            "|      12163|2022-11-16 08:56:03|            Home|          285|       4|                  384|        Crypto|          67|   NULL|    Sonia Moreno| 67|  Male|    0|\n",
            "|      28248|2023-04-09 01:33:30|        Clothing|          410|       1|                  445|          Cash|          48|   NULL|   Kelly Ramirez| 48|  Male|    1|\n",
            "|      28248|2021-11-24 07:13:08|            Home|          327|       1|                 1496|          Cash|          48|   NULL|   Kelly Ramirez| 48|  Male|    1|\n",
            "|       6761|2020-11-23 05:27:32|        Clothing|          304|       4|                 3110|          Cash|          46|   NULL| Johnny Peterson| 46|Female|    0|\n",
            "|       6761|2021-05-10 17:46:35|            Home|          400|       2|                 1036|          Cash|          46|   NULL| Johnny Peterson| 46|Female|    0|\n",
            "|      17018|2021-04-30 13:16:25|        Clothing|          119|       3|                 3967|        PayPal|          21|   NULL|   Jerry Mendoza| 21|  Male|    0|\n",
            "|      11462|2023-01-12 07:48:01|            Home|          191|       4|                 1785|        PayPal|          32|   NULL|     Cory Wagner| 32|Female|    0|\n",
            "|      43388|2023-07-07 21:17:27|            Home|           20|       3|                 3294|        PayPal|          32|   NULL|     Cory Zuniga| 32|Female|    0|\n",
            "|      43388|2022-02-27 09:50:57|        Clothing|          453|       4|                  365|          Cash|          32|   NULL|     Cory Zuniga| 32|Female|    0|\n",
            "|      39199|2020-07-25 07:42:40|        Clothing|           21|       2|                  559|        PayPal|          46|   NULL|  Ashley Shelton| 46|  Male|    0|\n",
            "|       3843|2020-03-10 17:38:55|     Electronics|          276|       3|                 4997|   Credit Card|          43|   NULL|  Shelly Higgins| 43|  Male|    0|\n",
            "|      49593|2021-05-01 15:03:48|           Books|          227|       3|                 1856|        PayPal|          24|   NULL|    Steve Patton| 24|  Male|    1|\n",
            "|      49593|2021-11-27 19:47:36|           Books|          388|       2|                  743|          Cash|          24|   NULL|    Steve Patton| 24|  Male|    1|\n",
            "|      34772|2020-01-02 16:27:32|        Clothing|           63|       3|                 3910|   Credit Card|          51|   NULL|Kimberly Burgess| 51|  Male|    0|\n",
            "|      47326|2022-08-25 12:48:54|     Electronics|          188|       5|                 2582|        PayPal|          39|   NULL|    Heather Diaz| 39|  Male|    0|\n",
            "+-----------+-------------------+----------------+-------------+--------+---------------------+--------------+------------+-------+----------------+---+------+-----+\n",
            "only showing top 20 rows\n",
            "\n",
            "+-----------+-------------+----------------+-------------+--------+---------------------+--------------+------------+-------+-------------+---+------+-----+\n",
            "|Customer_ID|Purchase_Date|Product_Category|Product_Price|Quantity|Total_Purchase_Amount|Payment_Method|Customer_Age|Returns|Customer_Name|Age|Gender|Churn|\n",
            "+-----------+-------------+----------------+-------------+--------+---------------------+--------------+------------+-------+-------------+---+------+-----+\n",
            "+-----------+-------------+----------------+-------------+--------+---------------------+--------------+------------+-------+-------------+---+------+-----+\n",
            "\n",
            "+-----------+-------------+----------------+-------------+--------+---------------------+--------------+------------+-------+-------------+---+------+-----+\n",
            "|Customer_ID|Purchase_Date|Product_Category|Product_Price|Quantity|Total_Purchase_Amount|Payment_Method|Customer_Age|Returns|Customer_Name|Age|Gender|Churn|\n",
            "+-----------+-------------+----------------+-------------+--------+---------------------+--------------+------------+-------+-------------+---+------+-----+\n",
            "+-----------+-------------+----------------+-------------+--------+---------------------+--------------+------------+-------+-------------+---+------+-----+\n",
            "\n",
            "+-----------+-------------+----------------+-------------+--------+---------------------+--------------+------------+-------+-------------+---+------+-----+\n",
            "|Customer_ID|Purchase_Date|Product_Category|Product_Price|Quantity|Total_Purchase_Amount|Payment_Method|Customer_Age|Returns|Customer_Name|Age|Gender|Churn|\n",
            "+-----------+-------------+----------------+-------------+--------+---------------------+--------------+------------+-------+-------------+---+------+-----+\n",
            "+-----------+-------------+----------------+-------------+--------+---------------------+--------------+------------+-------+-------------+---+------+-----+\n",
            "\n",
            "+-----------+-------------+----------------+-------------+--------+---------------------+--------------+------------+-------+-------------+---+------+-----+\n",
            "|Customer_ID|Purchase_Date|Product_Category|Product_Price|Quantity|Total_Purchase_Amount|Payment_Method|Customer_Age|Returns|Customer_Name|Age|Gender|Churn|\n",
            "+-----------+-------------+----------------+-------------+--------+---------------------+--------------+------------+-------+-------------+---+------+-----+\n",
            "+-----------+-------------+----------------+-------------+--------+---------------------+--------------+------------+-------+-------------+---+------+-----+\n",
            "\n",
            "+-----------+-------------+----------------+-------------+--------+---------------------+--------------+------------+-------+-------------+---+------+-----+\n",
            "|Customer_ID|Purchase_Date|Product_Category|Product_Price|Quantity|Total_Purchase_Amount|Payment_Method|Customer_Age|Returns|Customer_Name|Age|Gender|Churn|\n",
            "+-----------+-------------+----------------+-------------+--------+---------------------+--------------+------------+-------+-------------+---+------+-----+\n",
            "+-----------+-------------+----------------+-------------+--------+---------------------+--------------+------------+-------+-------------+---+------+-----+\n",
            "\n",
            "+-----------+-------------+----------------+-------------+--------+---------------------+--------------+------------+-------+-------------+---+------+-----+\n",
            "|Customer_ID|Purchase_Date|Product_Category|Product_Price|Quantity|Total_Purchase_Amount|Payment_Method|Customer_Age|Returns|Customer_Name|Age|Gender|Churn|\n",
            "+-----------+-------------+----------------+-------------+--------+---------------------+--------------+------------+-------+-------------+---+------+-----+\n",
            "+-----------+-------------+----------------+-------------+--------+---------------------+--------------+------------+-------+-------------+---+------+-----+\n",
            "\n",
            "+-----------+-------------+----------------+-------------+--------+---------------------+--------------+------------+-------+-------------+---+------+-----+\n",
            "|Customer_ID|Purchase_Date|Product_Category|Product_Price|Quantity|Total_Purchase_Amount|Payment_Method|Customer_Age|Returns|Customer_Name|Age|Gender|Churn|\n",
            "+-----------+-------------+----------------+-------------+--------+---------------------+--------------+------------+-------+-------------+---+------+-----+\n",
            "+-----------+-------------+----------------+-------------+--------+---------------------+--------------+------------+-------+-------------+---+------+-----+\n",
            "\n",
            "+-----------+-------------+----------------+-------------+--------+---------------------+--------------+------------+-------+-------------+---+------+-----+\n",
            "|Customer_ID|Purchase_Date|Product_Category|Product_Price|Quantity|Total_Purchase_Amount|Payment_Method|Customer_Age|Returns|Customer_Name|Age|Gender|Churn|\n",
            "+-----------+-------------+----------------+-------------+--------+---------------------+--------------+------------+-------+-------------+---+------+-----+\n",
            "+-----------+-------------+----------------+-------------+--------+---------------------+--------------+------------+-------+-------------+---+------+-----+\n",
            "\n",
            "+-----------+-------------+----------------+-------------+--------+---------------------+--------------+------------+-------+-------------+---+------+-----+\n",
            "|Customer_ID|Purchase_Date|Product_Category|Product_Price|Quantity|Total_Purchase_Amount|Payment_Method|Customer_Age|Returns|Customer_Name|Age|Gender|Churn|\n",
            "+-----------+-------------+----------------+-------------+--------+---------------------+--------------+------------+-------+-------------+---+------+-----+\n",
            "+-----------+-------------+----------------+-------------+--------+---------------------+--------------+------------+-------+-------------+---+------+-----+\n",
            "\n",
            "+-----------+-------------+----------------+-------------+--------+---------------------+--------------+------------+-------+-------------+---+------+-----+\n",
            "|Customer_ID|Purchase_Date|Product_Category|Product_Price|Quantity|Total_Purchase_Amount|Payment_Method|Customer_Age|Returns|Customer_Name|Age|Gender|Churn|\n",
            "+-----------+-------------+----------------+-------------+--------+---------------------+--------------+------------+-------+-------------+---+------+-----+\n",
            "+-----------+-------------+----------------+-------------+--------+---------------------+--------------+------------+-------+-------------+---+------+-----+\n",
            "\n",
            "+-----------+-------------+----------------+-------------+--------+---------------------+--------------+------------+-------+-------------+---+------+-----+\n",
            "|Customer_ID|Purchase_Date|Product_Category|Product_Price|Quantity|Total_Purchase_Amount|Payment_Method|Customer_Age|Returns|Customer_Name|Age|Gender|Churn|\n",
            "+-----------+-------------+----------------+-------------+--------+---------------------+--------------+------------+-------+-------------+---+------+-----+\n",
            "+-----------+-------------+----------------+-------------+--------+---------------------+--------------+------------+-------+-------------+---+------+-----+\n",
            "\n"
          ]
        }
      ]
    },
    {
      "cell_type": "code",
      "source": [
        "ecommerce_dfw = ecommerce_df.dropna(subset=['Returns'], how = 'any' )"
      ],
      "metadata": {
        "id": "OVFxq35TpL_G"
      },
      "execution_count": 12,
      "outputs": []
    },
    {
      "cell_type": "code",
      "source": [
        "from pyspark.sql.functions import current_timestamp\n",
        "ecommerce_in = ecommerce_dfw.withColumn(\"Ingestion_Date\",current_timestamp())\n",
        "ecommerce_in.show()"
      ],
      "metadata": {
        "colab": {
          "base_uri": "https://localhost:8080/"
        },
        "id": "nQUx1_MAt1SL",
        "outputId": "03288ccc-fd30-4195-abcf-8131d2faddd0"
      },
      "execution_count": 13,
      "outputs": [
        {
          "output_type": "stream",
          "name": "stdout",
          "text": [
            "+-----------+-------------------+----------------+-------------+--------+---------------------+--------------+------------+-------+-------------------+---+------+-----+--------------------+\n",
            "|Customer_ID|      Purchase_Date|Product_Category|Product_Price|Quantity|Total_Purchase_Amount|Payment_Method|Customer_Age|Returns|      Customer_Name|Age|Gender|Churn|      Ingestion_Date|\n",
            "+-----------+-------------------+----------------+-------------+--------+---------------------+--------------+------------+-------+-------------------+---+------+-----+--------------------+\n",
            "|      46251|2020-09-08 09:38:32|     Electronics|           12|       3|                  740|   Credit Card|          37|    0.0|Christine Hernandez| 37|  Male|    0|2023-11-17 23:01:...|\n",
            "|      46251|2022-03-05 12:56:35|            Home|          468|       4|                 2739|        PayPal|          37|    0.0|Christine Hernandez| 37|  Male|    0|2023-11-17 23:01:...|\n",
            "|      46251|2022-05-23 18:18:01|            Home|          288|       2|                 3196|        PayPal|          37|    0.0|Christine Hernandez| 37|  Male|    0|2023-11-17 23:01:...|\n",
            "|      46251|2020-11-12 13:13:29|        Clothing|          196|       1|                 3509|        PayPal|          37|    0.0|Christine Hernandez| 37|  Male|    0|2023-11-17 23:01:...|\n",
            "|      13593|2020-11-27 17:55:11|            Home|          449|       1|                 3452|   Credit Card|          49|    0.0|        James Grant| 49|Female|    1|2023-11-17 23:01:...|\n",
            "|      13593|2023-03-07 14:17:42|            Home|          250|       4|                  575|        PayPal|          49|    1.0|        James Grant| 49|Female|    1|2023-11-17 23:01:...|\n",
            "|      13593|2023-04-15 03:02:33|     Electronics|           73|       1|                 1896|   Credit Card|          49|    0.0|        James Grant| 49|Female|    1|2023-11-17 23:01:...|\n",
            "|      13593|2021-03-27 21:23:28|           Books|          337|       2|                 2937|          Cash|          49|    0.0|        James Grant| 49|Female|    1|2023-11-17 23:01:...|\n",
            "|      13593|2020-05-05 20:14:00|        Clothing|          182|       2|                 3363|        PayPal|          49|    1.0|        James Grant| 49|Female|    1|2023-11-17 23:01:...|\n",
            "|      28805|2023-09-13 04:24:00|     Electronics|          394|       2|                 1993|   Credit Card|          19|    0.0|       Jose Collier| 19|  Male|    0|2023-11-17 23:01:...|\n",
            "|      28805|2021-03-31 09:50:57|        Clothing|          366|       1|                  246|        PayPal|          19|    0.0|       Jose Collier| 19|  Male|    0|2023-11-17 23:01:...|\n",
            "|      28805|2021-01-18 22:42:24|           Books|          348|       1|                 2682|   Credit Card|          19|    1.0|       Jose Collier| 19|  Male|    0|2023-11-17 23:01:...|\n",
            "|      28805|2020-01-07 12:57:35|           Books|          103|       4|                  731|          Cash|          19|    0.0|       Jose Collier| 19|  Male|    0|2023-11-17 23:01:...|\n",
            "|      28805|2021-02-12 20:33:20|           Books|          240|       1|                 2563|        PayPal|          19|    0.0|       Jose Collier| 19|  Male|    0|2023-11-17 23:01:...|\n",
            "|      28961|2020-01-13 09:57:17|           Books|          153|       5|                  698|   Credit Card|          55|    0.0|        James Stein| 55|  Male|    0|2023-11-17 23:01:...|\n",
            "|      28961|2023-06-18 21:34:27|        Clothing|          259|       1|                 2975|   Credit Card|          55|    0.0|        James Stein| 55|  Male|    0|2023-11-17 23:01:...|\n",
            "|      28961|2021-09-10 00:39:41|           Books|          489|       3|                 2213|   Credit Card|          55|    1.0|        James Stein| 55|  Male|    0|2023-11-17 23:01:...|\n",
            "|      28961|2023-06-01 19:07:10|           Books|          232|       3|                 4452|        PayPal|          55|    1.0|        James Stein| 55|  Male|    0|2023-11-17 23:01:...|\n",
            "|      12163|2023-07-08 13:36:47|        Clothing|          288|       2|                 1405|        PayPal|          67|    0.0|       Sonia Moreno| 67|  Male|    0|2023-11-17 23:01:...|\n",
            "|      12163|2020-04-07 04:24:44|           Books|          100|       5|                 1273|          Cash|          67|    0.0|       Sonia Moreno| 67|  Male|    0|2023-11-17 23:01:...|\n",
            "+-----------+-------------------+----------------+-------------+--------+---------------------+--------------+------------+-------+-------------------+---+------+-----+--------------------+\n",
            "only showing top 20 rows\n",
            "\n"
          ]
        }
      ]
    },
    {
      "cell_type": "code",
      "source": [
        "from datetime import date\n",
        "from pyspark.sql.functions import *\n",
        "ecommerce_df_final = ecommerce_in.select(ecommerce_in.Customer_ID,year(ecommerce_in.Purchase_Date).alias('Purchase_year'),\\\n",
        "                                         to_date(lit(ecommerce_in.Purchase_Date)).alias('Purchase_Date'),\\\n",
        "                                         ecommerce_in.Product_Category,ecommerce_in.Product_Price,\\\n",
        "                                         ecommerce_in.Quantity,ecommerce_in.Total_Purchase_Amount,\\\n",
        "                                         ecommerce_in.Payment_Method,ecommerce_in.Customer_Age,\\\n",
        "                                         ecommerce_in.Returns,ecommerce_in.Customer_Name,\\\n",
        "                                         ecommerce_in.Age,ecommerce_in.Gender,\\\n",
        "                                         ecommerce_in.Churn,ecommerce_in.Ingestion_Date)\n",
        "ecommerce_df_final.show()\n"
      ],
      "metadata": {
        "colab": {
          "base_uri": "https://localhost:8080/"
        },
        "id": "GCdu1UkqqR6H",
        "outputId": "64485744-bbb1-436d-8897-bb0e652f15c3"
      },
      "execution_count": 14,
      "outputs": [
        {
          "output_type": "stream",
          "name": "stdout",
          "text": [
            "+-----------+-------------+-------------+----------------+-------------+--------+---------------------+--------------+------------+-------+-------------------+---+------+-----+--------------------+\n",
            "|Customer_ID|Purchase_year|Purchase_Date|Product_Category|Product_Price|Quantity|Total_Purchase_Amount|Payment_Method|Customer_Age|Returns|      Customer_Name|Age|Gender|Churn|      Ingestion_Date|\n",
            "+-----------+-------------+-------------+----------------+-------------+--------+---------------------+--------------+------------+-------+-------------------+---+------+-----+--------------------+\n",
            "|      46251|         2020|   2020-09-08|     Electronics|           12|       3|                  740|   Credit Card|          37|    0.0|Christine Hernandez| 37|  Male|    0|2023-11-17 23:01:...|\n",
            "|      46251|         2022|   2022-03-05|            Home|          468|       4|                 2739|        PayPal|          37|    0.0|Christine Hernandez| 37|  Male|    0|2023-11-17 23:01:...|\n",
            "|      46251|         2022|   2022-05-23|            Home|          288|       2|                 3196|        PayPal|          37|    0.0|Christine Hernandez| 37|  Male|    0|2023-11-17 23:01:...|\n",
            "|      46251|         2020|   2020-11-12|        Clothing|          196|       1|                 3509|        PayPal|          37|    0.0|Christine Hernandez| 37|  Male|    0|2023-11-17 23:01:...|\n",
            "|      13593|         2020|   2020-11-27|            Home|          449|       1|                 3452|   Credit Card|          49|    0.0|        James Grant| 49|Female|    1|2023-11-17 23:01:...|\n",
            "|      13593|         2023|   2023-03-07|            Home|          250|       4|                  575|        PayPal|          49|    1.0|        James Grant| 49|Female|    1|2023-11-17 23:01:...|\n",
            "|      13593|         2023|   2023-04-15|     Electronics|           73|       1|                 1896|   Credit Card|          49|    0.0|        James Grant| 49|Female|    1|2023-11-17 23:01:...|\n",
            "|      13593|         2021|   2021-03-27|           Books|          337|       2|                 2937|          Cash|          49|    0.0|        James Grant| 49|Female|    1|2023-11-17 23:01:...|\n",
            "|      13593|         2020|   2020-05-05|        Clothing|          182|       2|                 3363|        PayPal|          49|    1.0|        James Grant| 49|Female|    1|2023-11-17 23:01:...|\n",
            "|      28805|         2023|   2023-09-13|     Electronics|          394|       2|                 1993|   Credit Card|          19|    0.0|       Jose Collier| 19|  Male|    0|2023-11-17 23:01:...|\n",
            "|      28805|         2021|   2021-03-31|        Clothing|          366|       1|                  246|        PayPal|          19|    0.0|       Jose Collier| 19|  Male|    0|2023-11-17 23:01:...|\n",
            "|      28805|         2021|   2021-01-18|           Books|          348|       1|                 2682|   Credit Card|          19|    1.0|       Jose Collier| 19|  Male|    0|2023-11-17 23:01:...|\n",
            "|      28805|         2020|   2020-01-07|           Books|          103|       4|                  731|          Cash|          19|    0.0|       Jose Collier| 19|  Male|    0|2023-11-17 23:01:...|\n",
            "|      28805|         2021|   2021-02-12|           Books|          240|       1|                 2563|        PayPal|          19|    0.0|       Jose Collier| 19|  Male|    0|2023-11-17 23:01:...|\n",
            "|      28961|         2020|   2020-01-13|           Books|          153|       5|                  698|   Credit Card|          55|    0.0|        James Stein| 55|  Male|    0|2023-11-17 23:01:...|\n",
            "|      28961|         2023|   2023-06-18|        Clothing|          259|       1|                 2975|   Credit Card|          55|    0.0|        James Stein| 55|  Male|    0|2023-11-17 23:01:...|\n",
            "|      28961|         2021|   2021-09-10|           Books|          489|       3|                 2213|   Credit Card|          55|    1.0|        James Stein| 55|  Male|    0|2023-11-17 23:01:...|\n",
            "|      28961|         2023|   2023-06-01|           Books|          232|       3|                 4452|        PayPal|          55|    1.0|        James Stein| 55|  Male|    0|2023-11-17 23:01:...|\n",
            "|      12163|         2023|   2023-07-08|        Clothing|          288|       2|                 1405|        PayPal|          67|    0.0|       Sonia Moreno| 67|  Male|    0|2023-11-17 23:01:...|\n",
            "|      12163|         2020|   2020-04-07|           Books|          100|       5|                 1273|          Cash|          67|    0.0|       Sonia Moreno| 67|  Male|    0|2023-11-17 23:01:...|\n",
            "+-----------+-------------+-------------+----------------+-------------+--------+---------------------+--------------+------------+-------+-------------------+---+------+-----+--------------------+\n",
            "only showing top 20 rows\n",
            "\n"
          ]
        }
      ]
    },
    {
      "cell_type": "code",
      "source": [
        "ecommerce_df_final.createOrReplaceTempView(\"rfa\")\n",
        "spark.sql(\"select count(Purchase_year) from rfa where Purchase_year = '2020'\").show()"
      ],
      "metadata": {
        "colab": {
          "base_uri": "https://localhost:8080/"
        },
        "id": "YCQOBFKb7MSJ",
        "outputId": "2f22db46-c164-41c9-d45f-660fc974c4bd"
      },
      "execution_count": 15,
      "outputs": [
        {
          "output_type": "stream",
          "name": "stdout",
          "text": [
            "+--------------------+\n",
            "|count(Purchase_year)|\n",
            "+--------------------+\n",
            "|               55042|\n",
            "+--------------------+\n",
            "\n"
          ]
        }
      ]
    },
    {
      "cell_type": "code",
      "source": [
        "ecommerce_df_final.show()\n",
        "ecommerce_df_final.write.mode(\"overwrite\").partitionBy('Purchase_year').parquet(\"/content/ecommerce/\")"
      ],
      "metadata": {
        "colab": {
          "base_uri": "https://localhost:8080/"
        },
        "id": "oM7PmBhZvdzZ",
        "outputId": "3cc119ab-35b1-4654-b062-92499db70f66"
      },
      "execution_count": 16,
      "outputs": [
        {
          "output_type": "stream",
          "name": "stdout",
          "text": [
            "+-----------+-------------+-------------+----------------+-------------+--------+---------------------+--------------+------------+-------+-------------------+---+------+-----+--------------------+\n",
            "|Customer_ID|Purchase_year|Purchase_Date|Product_Category|Product_Price|Quantity|Total_Purchase_Amount|Payment_Method|Customer_Age|Returns|      Customer_Name|Age|Gender|Churn|      Ingestion_Date|\n",
            "+-----------+-------------+-------------+----------------+-------------+--------+---------------------+--------------+------------+-------+-------------------+---+------+-----+--------------------+\n",
            "|      46251|         2020|   2020-09-08|     Electronics|           12|       3|                  740|   Credit Card|          37|    0.0|Christine Hernandez| 37|  Male|    0|2023-11-17 23:01:...|\n",
            "|      46251|         2022|   2022-03-05|            Home|          468|       4|                 2739|        PayPal|          37|    0.0|Christine Hernandez| 37|  Male|    0|2023-11-17 23:01:...|\n",
            "|      46251|         2022|   2022-05-23|            Home|          288|       2|                 3196|        PayPal|          37|    0.0|Christine Hernandez| 37|  Male|    0|2023-11-17 23:01:...|\n",
            "|      46251|         2020|   2020-11-12|        Clothing|          196|       1|                 3509|        PayPal|          37|    0.0|Christine Hernandez| 37|  Male|    0|2023-11-17 23:01:...|\n",
            "|      13593|         2020|   2020-11-27|            Home|          449|       1|                 3452|   Credit Card|          49|    0.0|        James Grant| 49|Female|    1|2023-11-17 23:01:...|\n",
            "|      13593|         2023|   2023-03-07|            Home|          250|       4|                  575|        PayPal|          49|    1.0|        James Grant| 49|Female|    1|2023-11-17 23:01:...|\n",
            "|      13593|         2023|   2023-04-15|     Electronics|           73|       1|                 1896|   Credit Card|          49|    0.0|        James Grant| 49|Female|    1|2023-11-17 23:01:...|\n",
            "|      13593|         2021|   2021-03-27|           Books|          337|       2|                 2937|          Cash|          49|    0.0|        James Grant| 49|Female|    1|2023-11-17 23:01:...|\n",
            "|      13593|         2020|   2020-05-05|        Clothing|          182|       2|                 3363|        PayPal|          49|    1.0|        James Grant| 49|Female|    1|2023-11-17 23:01:...|\n",
            "|      28805|         2023|   2023-09-13|     Electronics|          394|       2|                 1993|   Credit Card|          19|    0.0|       Jose Collier| 19|  Male|    0|2023-11-17 23:01:...|\n",
            "|      28805|         2021|   2021-03-31|        Clothing|          366|       1|                  246|        PayPal|          19|    0.0|       Jose Collier| 19|  Male|    0|2023-11-17 23:01:...|\n",
            "|      28805|         2021|   2021-01-18|           Books|          348|       1|                 2682|   Credit Card|          19|    1.0|       Jose Collier| 19|  Male|    0|2023-11-17 23:01:...|\n",
            "|      28805|         2020|   2020-01-07|           Books|          103|       4|                  731|          Cash|          19|    0.0|       Jose Collier| 19|  Male|    0|2023-11-17 23:01:...|\n",
            "|      28805|         2021|   2021-02-12|           Books|          240|       1|                 2563|        PayPal|          19|    0.0|       Jose Collier| 19|  Male|    0|2023-11-17 23:01:...|\n",
            "|      28961|         2020|   2020-01-13|           Books|          153|       5|                  698|   Credit Card|          55|    0.0|        James Stein| 55|  Male|    0|2023-11-17 23:01:...|\n",
            "|      28961|         2023|   2023-06-18|        Clothing|          259|       1|                 2975|   Credit Card|          55|    0.0|        James Stein| 55|  Male|    0|2023-11-17 23:01:...|\n",
            "|      28961|         2021|   2021-09-10|           Books|          489|       3|                 2213|   Credit Card|          55|    1.0|        James Stein| 55|  Male|    0|2023-11-17 23:01:...|\n",
            "|      28961|         2023|   2023-06-01|           Books|          232|       3|                 4452|        PayPal|          55|    1.0|        James Stein| 55|  Male|    0|2023-11-17 23:01:...|\n",
            "|      12163|         2023|   2023-07-08|        Clothing|          288|       2|                 1405|        PayPal|          67|    0.0|       Sonia Moreno| 67|  Male|    0|2023-11-17 23:01:...|\n",
            "|      12163|         2020|   2020-04-07|           Books|          100|       5|                 1273|          Cash|          67|    0.0|       Sonia Moreno| 67|  Male|    0|2023-11-17 23:01:...|\n",
            "+-----------+-------------+-------------+----------------+-------------+--------+---------------------+--------------+------------+-------+-------------------+---+------+-----+--------------------+\n",
            "only showing top 20 rows\n",
            "\n"
          ]
        }
      ]
    },
    {
      "cell_type": "code",
      "source": [
        "ecommerce_2020= spark.read.format('parquet').option('header',True).load(\"/content/ecommerce/Purchase_year=2020/part-00000-16ade1af-e9c2-463e-87c3-6e0733e67117.c000.snappy.parquet\")\n",
        "ecommerce_1= spark.read.format('parquet').option('header',True).load(\"/content/ecommerce/Purchase_year=2020/part-00001-16ade1af-e9c2-463e-87c3-6e0733e67117.c000.snappy.parquet\")\n",
        "ecommerce_2020.createOrReplaceTempView(\"emr\")\n",
        "ecommerce_1.createOrReplaceTempView(\"ems\")\n",
        "emc_df = spark.sql(\"select * from emr union all select * from ems\")\n",
        "emc_df.createOrReplaceTempView(\"emc_2020\")\n"
      ],
      "metadata": {
        "id": "S_hXoo1X4JHs"
      },
      "execution_count": 18,
      "outputs": []
    },
    {
      "cell_type": "markdown",
      "source": [
        "#Goal_1\n",
        "###*Analyze the dataset to gain insights into specific customer demographics, purchase frequency, and product preferences.*"
      ],
      "metadata": {
        "id": "bruKO3CvjKkX"
      }
    },
    {
      "cell_type": "code",
      "source": [
        "spark.sql(\"select Customer_ID,Purchase_Date, Product_Category, Customer_Name, Churn,\\\n",
        " Lag(Purchase_Date) over(order by Purchase_Date) as previous_row, \\\n",
        " Purchase_Date - Lag(Purchase_Date) over(order by Purchase_Date) as difference\\\n",
        "  from emc_2020 where Customer_ID = 33906 \").show()"
      ],
      "metadata": {
        "colab": {
          "base_uri": "https://localhost:8080/"
        },
        "id": "QKjlkN5f8EPP",
        "outputId": "3ea90a47-1eb1-40c2-d128-434a86c7c300"
      },
      "execution_count": 19,
      "outputs": [
        {
          "output_type": "stream",
          "name": "stdout",
          "text": [
            "+-----------+-------------+----------------+--------------+-----+------------+-----------------+\n",
            "|Customer_ID|Purchase_Date|Product_Category| Customer_Name|Churn|previous_row|       difference|\n",
            "+-----------+-------------+----------------+--------------+-----+------------+-----------------+\n",
            "|      33906|   2020-03-01|        Clothing|Aaron Bautista|    0|        NULL|             NULL|\n",
            "|      33906|   2020-04-07|           Books|Aaron Bautista|    0|  2020-03-01|INTERVAL '37' DAY|\n",
            "|      33906|   2020-05-02|           Books|Aaron Bautista|    0|  2020-04-07|INTERVAL '25' DAY|\n",
            "|      33906|   2020-06-23|            Home|Aaron Bautista|    0|  2020-05-02|INTERVAL '52' DAY|\n",
            "|      33906|   2020-07-25|            Home|Aaron Bautista|    0|  2020-06-23|INTERVAL '32' DAY|\n",
            "+-----------+-------------+----------------+--------------+-----+------------+-----------------+\n",
            "\n"
          ]
        }
      ]
    },
    {
      "cell_type": "markdown",
      "source": [
        "#Goal_2\n",
        "###*Exploring the factors contributing to customer churn.*"
      ],
      "metadata": {
        "id": "Bl4jgDP3ZdNk"
      }
    },
    {
      "cell_type": "code",
      "source": [
        "spark.sql(\"select Customer_ID,Purchase_Date, Product_Category, Customer_Name, Churn,\\\n",
        " Lag(Purchase_Date) over(order by Purchase_Date) as previous_row, \\\n",
        " Purchase_Date - Lag(Purchase_Date) over(order by Purchase_Date) as difference\\\n",
        "  from rfa where Customer_ID = 28248 \").show()"
      ],
      "metadata": {
        "colab": {
          "base_uri": "https://localhost:8080/"
        },
        "id": "NPb-MRmcZmwV",
        "outputId": "22bc248b-f09a-48b5-8a30-0845cc4b5804"
      },
      "execution_count": 20,
      "outputs": [
        {
          "output_type": "stream",
          "name": "stdout",
          "text": [
            "+-----------+-------------+----------------+-------------+-----+------------+------------------+\n",
            "|Customer_ID|Purchase_Date|Product_Category|Customer_Name|Churn|previous_row|        difference|\n",
            "+-----------+-------------+----------------+-------------+-----+------------+------------------+\n",
            "|      28248|   2020-04-26|           Books|Kelly Ramirez|    1|        NULL|              NULL|\n",
            "|      28248|   2021-06-25|            Home|Kelly Ramirez|    1|  2020-04-26|INTERVAL '425' DAY|\n",
            "|      28248|   2021-08-03|     Electronics|Kelly Ramirez|    1|  2021-06-25| INTERVAL '39' DAY|\n",
            "|      28248|   2022-09-22|           Books|Kelly Ramirez|    1|  2021-08-03|INTERVAL '415' DAY|\n",
            "|      28248|   2023-09-12|            Home|Kelly Ramirez|    1|  2022-09-22|INTERVAL '355' DAY|\n",
            "+-----------+-------------+----------------+-------------+-----+------------+------------------+\n",
            "\n"
          ]
        }
      ]
    },
    {
      "cell_type": "code",
      "source": [
        "spark.sql(\"select * from rfa where Customer_ID = 28248 order by Purchase_Date\").show()"
      ],
      "metadata": {
        "colab": {
          "base_uri": "https://localhost:8080/"
        },
        "id": "X-n1InkuU06l",
        "outputId": "ddb1d885-4721-4615-86ee-9946250a8567"
      },
      "execution_count": 21,
      "outputs": [
        {
          "output_type": "stream",
          "name": "stdout",
          "text": [
            "+-----------+-------------+-------------+----------------+-------------+--------+---------------------+--------------+------------+-------+-------------+---+------+-----+--------------------+\n",
            "|Customer_ID|Purchase_year|Purchase_Date|Product_Category|Product_Price|Quantity|Total_Purchase_Amount|Payment_Method|Customer_Age|Returns|Customer_Name|Age|Gender|Churn|      Ingestion_Date|\n",
            "+-----------+-------------+-------------+----------------+-------------+--------+---------------------+--------------+------------+-------+-------------+---+------+-----+--------------------+\n",
            "|      28248|         2020|   2020-04-26|           Books|           70|       5|                 1037|        PayPal|          48|    0.0|Kelly Ramirez| 48|  Male|    1|2023-11-17 23:03:...|\n",
            "|      28248|         2021|   2021-06-25|            Home|          131|       4|                 2019|        PayPal|          48|    0.0|Kelly Ramirez| 48|  Male|    1|2023-11-17 23:03:...|\n",
            "|      28248|         2021|   2021-08-03|     Electronics|          219|       2|                  468|        PayPal|          48|    0.0|Kelly Ramirez| 48|  Male|    1|2023-11-17 23:03:...|\n",
            "|      28248|         2022|   2022-09-22|           Books|          405|       3|                 1687|        PayPal|          48|    1.0|Kelly Ramirez| 48|  Male|    1|2023-11-17 23:03:...|\n",
            "|      28248|         2023|   2023-09-12|            Home|          243|       3|                 2516|        PayPal|          48|    0.0|Kelly Ramirez| 48|  Male|    1|2023-11-17 23:03:...|\n",
            "+-----------+-------------+-------------+----------------+-------------+--------+---------------------+--------------+------------+-------+-------------+---+------+-----+--------------------+\n",
            "\n"
          ]
        }
      ]
    },
    {
      "cell_type": "code",
      "source": [
        "spark.sql(\"select * from rfa where Customer_ID = 3396 order by Purchase_Date\").show()"
      ],
      "metadata": {
        "colab": {
          "base_uri": "https://localhost:8080/"
        },
        "id": "hrnVEyOuWJ2q",
        "outputId": "ffd7ce3b-af3c-48db-e724-043180e52ccd"
      },
      "execution_count": 22,
      "outputs": [
        {
          "output_type": "stream",
          "name": "stdout",
          "text": [
            "+-----------+-------------+-------------+----------------+-------------+--------+---------------------+--------------+------------+-------+-------------+---+------+-----+--------------------+\n",
            "|Customer_ID|Purchase_year|Purchase_Date|Product_Category|Product_Price|Quantity|Total_Purchase_Amount|Payment_Method|Customer_Age|Returns|Customer_Name|Age|Gender|Churn|      Ingestion_Date|\n",
            "+-----------+-------------+-------------+----------------+-------------+--------+---------------------+--------------+------------+-------+-------------+---+------+-----+--------------------+\n",
            "|       3396|         2020|   2020-08-28|           Books|          391|       5|                 1354|        PayPal|          68|    0.0|  Mary Kelley| 68|Female|    0|2023-11-17 23:03:...|\n",
            "|       3396|         2021|   2021-05-20|     Electronics|          406|       3|                 1187|   Credit Card|          68|    1.0|  Mary Kelley| 68|Female|    0|2023-11-17 23:03:...|\n",
            "|       3396|         2022|   2022-03-24|        Clothing|          448|       3|                 4054|        PayPal|          68|    1.0|  Mary Kelley| 68|Female|    0|2023-11-17 23:03:...|\n",
            "+-----------+-------------+-------------+----------------+-------------+--------+---------------------+--------------+------------+-------+-------------+---+------+-----+--------------------+\n",
            "\n"
          ]
        }
      ]
    },
    {
      "cell_type": "code",
      "source": [
        "mrf = spark.sql(\"select Distinct(Customer_ID) from rfa where Churn = 0\")\n",
        "mrf.createOrReplaceTempView('red')"
      ],
      "metadata": {
        "id": "2CRNRKG7asg3"
      },
      "execution_count": 23,
      "outputs": []
    },
    {
      "cell_type": "code",
      "source": [
        "mpf = spark.sql(\"select Distinct(Customer_ID) from rfa where Churn = 1\")\n",
        "mpf.createOrReplaceTempView('green')"
      ],
      "metadata": {
        "id": "DBgh31vreo2j"
      },
      "execution_count": 24,
      "outputs": []
    },
    {
      "cell_type": "code",
      "source": [
        "spark.sql(\"select Customer_ID from red intersect select Customer_ID from green\").show()"
      ],
      "metadata": {
        "colab": {
          "base_uri": "https://localhost:8080/"
        },
        "id": "4cffoMBQbLwy",
        "outputId": "3dbe6599-5859-4d6c-d1df-468b33c1e1c7"
      },
      "execution_count": 25,
      "outputs": [
        {
          "output_type": "stream",
          "name": "stdout",
          "text": [
            "+-----------+\n",
            "|Customer_ID|\n",
            "+-----------+\n",
            "+-----------+\n",
            "\n"
          ]
        }
      ]
    },
    {
      "cell_type": "markdown",
      "source": [
        "#Goal_3\n",
        "###*Analyze the returns of the customer over the years based upon the product category.*"
      ],
      "metadata": {
        "id": "Np4oyYGdcV3h"
      }
    },
    {
      "cell_type": "code",
      "source": [
        "spark.sql(\"select count(*) from rfa where Product_Category = 'Books'\").show()\n",
        "spark.sql(\"select * from rfa where Product_Category = 'Books' and Returns = 1\").show(50)\n",
        "spark.sql(\"select * from rfa where Product_Category = 'Books' and Returns = 0\").show(50)"
      ],
      "metadata": {
        "colab": {
          "base_uri": "https://localhost:8080/"
        },
        "id": "75uS_KihcKwj",
        "outputId": "8f5fb28f-48ae-4fdd-cb81-da96ca423917"
      },
      "execution_count": 26,
      "outputs": [
        {
          "output_type": "stream",
          "name": "stdout",
          "text": [
            "+--------+\n",
            "|count(1)|\n",
            "+--------+\n",
            "|   60595|\n",
            "+--------+\n",
            "\n",
            "+-----------+-------------+-------------+----------------+-------------+--------+---------------------+--------------+------------+-------+------------------+---+------+-----+--------------------+\n",
            "|Customer_ID|Purchase_year|Purchase_Date|Product_Category|Product_Price|Quantity|Total_Purchase_Amount|Payment_Method|Customer_Age|Returns|     Customer_Name|Age|Gender|Churn|      Ingestion_Date|\n",
            "+-----------+-------------+-------------+----------------+-------------+--------+---------------------+--------------+------------+-------+------------------+---+------+-----+--------------------+\n",
            "|      28805|         2021|   2021-01-18|           Books|          348|       1|                 2682|   Credit Card|          19|    1.0|      Jose Collier| 19|  Male|    0|2023-11-17 23:03:...|\n",
            "|      28961|         2021|   2021-09-10|           Books|          489|       3|                 2213|   Credit Card|          55|    1.0|       James Stein| 55|  Male|    0|2023-11-17 23:03:...|\n",
            "|      28961|         2023|   2023-06-01|           Books|          232|       3|                 4452|        PayPal|          55|    1.0|       James Stein| 55|  Male|    0|2023-11-17 23:03:...|\n",
            "|      28248|         2022|   2022-09-22|           Books|          405|       3|                 1687|        PayPal|          48|    1.0|     Kelly Ramirez| 48|  Male|    1|2023-11-17 23:03:...|\n",
            "|      39199|         2022|   2022-01-24|           Books|          362|       1|                 1766|   Credit Card|          46|    1.0|    Ashley Shelton| 46|  Male|    0|2023-11-17 23:03:...|\n",
            "|      39199|         2022|   2022-08-20|           Books|          197|       5|                 2442|   Credit Card|          46|    1.0|    Ashley Shelton| 46|  Male|    0|2023-11-17 23:03:...|\n",
            "|       3843|         2022|   2022-02-12|           Books|          401|       3|                 1996|        Crypto|          43|    1.0|    Shelly Higgins| 43|  Male|    0|2023-11-17 23:03:...|\n",
            "|       3843|         2020|   2020-05-16|           Books|           15|       2|                 1651|        PayPal|          43|    1.0|    Shelly Higgins| 43|  Male|    0|2023-11-17 23:03:...|\n",
            "|       3843|         2022|   2022-02-11|           Books|          164|       5|                 3607|   Credit Card|          43|    1.0|    Shelly Higgins| 43|  Male|    0|2023-11-17 23:03:...|\n",
            "|      49593|         2022|   2022-08-17|           Books|           18|       5|                 2670|        PayPal|          24|    1.0|      Steve Patton| 24|  Male|    1|2023-11-17 23:03:...|\n",
            "|      34772|         2022|   2022-07-26|           Books|           15|       5|                 3060|   Credit Card|          51|    1.0|  Kimberly Burgess| 51|  Male|    0|2023-11-17 23:03:...|\n",
            "|      24270|         2020|   2020-01-25|           Books|          332|       2|                 5247|        PayPal|          60|    1.0|    Phillip Harris| 60|  Male|    1|2023-11-17 23:03:...|\n",
            "|      36664|         2021|   2021-03-06|           Books|          404|       5|                 1950|          Cash|          22|    1.0|     Scott Calhoun| 22|Female|    1|2023-11-17 23:03:...|\n",
            "|       6089|         2020|   2020-01-24|           Books|          151|       3|                 2570|          Cash|          49|    1.0|        Megan Reed| 49|  Male|    0|2023-11-17 23:03:...|\n",
            "|       6089|         2021|   2021-02-14|           Books|          349|       3|                 2875|        PayPal|          49|    1.0|        Megan Reed| 49|  Male|    0|2023-11-17 23:03:...|\n",
            "|      43154|         2020|   2020-08-04|           Books|          432|       1|                 3877|          Cash|          41|    1.0|    Dwayne Shelton| 41|Female|    1|2023-11-17 23:03:...|\n",
            "|      43154|         2022|   2022-09-26|           Books|          393|       1|                 1388|   Credit Card|          41|    1.0|    Dwayne Shelton| 41|Female|    1|2023-11-17 23:03:...|\n",
            "|      43154|         2020|   2020-06-14|           Books|          184|       3|                 3554|   Credit Card|          41|    1.0|    Dwayne Shelton| 41|Female|    1|2023-11-17 23:03:...|\n",
            "|      24260|         2021|   2021-10-01|           Books|          196|       5|                 3607|   Credit Card|          27|    1.0|    Linda Williams| 27|  Male|    0|2023-11-17 23:03:...|\n",
            "|       3443|         2023|   2023-05-15|           Books|          425|       4|                 2386|        PayPal|          52|    1.0|Dr. Hunter Liu Jr.| 52|Female|    1|2023-11-17 23:03:...|\n",
            "|       3443|         2021|   2021-02-13|           Books|          108|       5|                 3635|          Cash|          52|    1.0|Dr. Hunter Liu Jr.| 52|Female|    1|2023-11-17 23:03:...|\n",
            "|      47413|         2022|   2022-02-23|           Books|           87|       1|                  422|   Credit Card|          61|    1.0|   Elizabeth Brown| 61|  Male|    1|2023-11-17 23:03:...|\n",
            "|      39920|         2023|   2023-07-28|           Books|          346|       4|                 4375|   Credit Card|          38|    1.0|  Andrew Zimmerman| 38|Female|    0|2023-11-17 23:03:...|\n",
            "|      45933|         2021|   2021-04-15|           Books|          202|       3|                 4116|        Crypto|          23|    1.0|     Corey Barajas| 23|Female|    0|2023-11-17 23:03:...|\n",
            "|       8969|         2023|   2023-03-07|           Books|          382|       5|                 2134|   Credit Card|          28|    1.0|       Brian Salas| 28|Female|    1|2023-11-17 23:03:...|\n",
            "|       2919|         2023|   2023-01-01|           Books|          315|       1|                 1974|        PayPal|          39|    1.0|        Brian Ward| 39|  Male|    0|2023-11-17 23:03:...|\n",
            "|       2919|         2021|   2021-12-02|           Books|          209|       4|                 4527|   Credit Card|          39|    1.0|        Brian Ward| 39|  Male|    0|2023-11-17 23:03:...|\n",
            "|      33320|         2020|   2020-09-20|           Books|          380|       3|                 2878|        PayPal|          21|    1.0|       Laura Vance| 21|  Male|    1|2023-11-17 23:03:...|\n",
            "|      19284|         2022|   2022-04-16|           Books|          261|       4|                 3193|          Cash|          59|    1.0|   Lindsey Stewart| 59|Female|    0|2023-11-17 23:03:...|\n",
            "|      19284|         2021|   2021-05-06|           Books|          346|       3|                 2667|   Credit Card|          59|    1.0|   Lindsey Stewart| 59|Female|    0|2023-11-17 23:03:...|\n",
            "|      38226|         2021|   2021-06-19|           Books|          253|       2|                 3034|        PayPal|          46|    1.0|      Edward Mejia| 46|Female|    0|2023-11-17 23:03:...|\n",
            "|      18196|         2020|   2020-09-02|           Books|          185|       4|                 3206|   Credit Card|          37|    1.0|     Stacy Rowland| 37|  Male|    0|2023-11-17 23:03:...|\n",
            "|      18196|         2023|   2023-05-24|           Books|          354|       5|                 1366|        Crypto|          37|    1.0|     Stacy Rowland| 37|  Male|    0|2023-11-17 23:03:...|\n",
            "|       8626|         2020|   2020-03-13|           Books|          498|       5|                  367|        PayPal|          22|    1.0|      Ralph Flores| 22|  Male|    0|2023-11-17 23:03:...|\n",
            "|      28501|         2020|   2020-04-28|           Books|          301|       4|                 4846|        PayPal|          35|    1.0|     Erin Campbell| 35|  Male|    0|2023-11-17 23:03:...|\n",
            "|      29635|         2021|   2021-04-11|           Books|          318|       2|                 2906|          Cash|          30|    1.0|   Brandon Parrish| 30|  Male|    0|2023-11-17 23:03:...|\n",
            "|      46076|         2022|   2022-08-02|           Books|          216|       2|                 1842|   Credit Card|          38|    1.0|      Thomas Green| 38|  Male|    0|2023-11-17 23:03:...|\n",
            "|      13989|         2020|   2020-07-10|           Books|          354|       5|                  520|          Cash|          27|    1.0|    William Valdez| 27|Female|    1|2023-11-17 23:03:...|\n",
            "|      37881|         2023|   2023-04-28|           Books|          200|       4|                  749|          Cash|          52|    1.0|   Martin Mason MD| 52|Female|    0|2023-11-17 23:03:...|\n",
            "|      27922|         2023|   2023-08-22|           Books|          278|       5|                  443|   Credit Card|          47|    1.0|        Martin Roy| 47|  Male|    0|2023-11-17 23:03:...|\n",
            "|      35410|         2022|   2022-11-10|           Books|          445|       4|                 4188|   Credit Card|          66|    1.0|Jennifer Henderson| 66|  Male|    0|2023-11-17 23:03:...|\n",
            "|      35410|         2021|   2021-03-05|           Books|          162|       4|                 1545|        PayPal|          66|    1.0|Jennifer Henderson| 66|  Male|    0|2023-11-17 23:03:...|\n",
            "|      14237|         2023|   2023-08-18|           Books|           11|       3|                 2590|   Credit Card|          21|    1.0|      Yvette Rivas| 21|Female|    0|2023-11-17 23:03:...|\n",
            "|      14237|         2023|   2023-08-09|           Books|          117|       2|                 1893|          Cash|          21|    1.0|      Yvette Rivas| 21|Female|    0|2023-11-17 23:03:...|\n",
            "|      40321|         2022|   2022-02-08|           Books|           81|       3|                 1947|   Credit Card|          22|    1.0|        Megan Wong| 22|  Male|    0|2023-11-17 23:03:...|\n",
            "|      40321|         2023|   2023-07-08|           Books|          143|       2|                 2631|        PayPal|          22|    1.0|        Megan Wong| 22|  Male|    0|2023-11-17 23:03:...|\n",
            "|      35059|         2023|   2023-01-06|           Books|           42|       5|                 3450|        Crypto|          66|    1.0|   Timothy Osborne| 66|  Male|    0|2023-11-17 23:03:...|\n",
            "|      35059|         2020|   2020-04-20|           Books|          381|       5|                 2120|   Credit Card|          66|    1.0|   Timothy Osborne| 66|  Male|    0|2023-11-17 23:03:...|\n",
            "|      10461|         2022|   2022-03-12|           Books|           37|       3|                 4280|        PayPal|          59|    1.0|      David Morris| 59|  Male|    0|2023-11-17 23:03:...|\n",
            "|      48598|         2022|   2022-07-06|           Books|          307|       4|                 2135|   Credit Card|          48|    1.0|  Brittany Ramirez| 48|Female|    0|2023-11-17 23:03:...|\n",
            "+-----------+-------------+-------------+----------------+-------------+--------+---------------------+--------------+------------+-------+------------------+---+------+-----+--------------------+\n",
            "only showing top 50 rows\n",
            "\n",
            "+-----------+-------------+-------------+----------------+-------------+--------+---------------------+--------------+------------+-------+------------------+---+------+-----+--------------------+\n",
            "|Customer_ID|Purchase_year|Purchase_Date|Product_Category|Product_Price|Quantity|Total_Purchase_Amount|Payment_Method|Customer_Age|Returns|     Customer_Name|Age|Gender|Churn|      Ingestion_Date|\n",
            "+-----------+-------------+-------------+----------------+-------------+--------+---------------------+--------------+------------+-------+------------------+---+------+-----+--------------------+\n",
            "|      13593|         2021|   2021-03-27|           Books|          337|       2|                 2937|          Cash|          49|    0.0|       James Grant| 49|Female|    1|2023-11-17 23:03:...|\n",
            "|      28805|         2020|   2020-01-07|           Books|          103|       4|                  731|          Cash|          19|    0.0|      Jose Collier| 19|  Male|    0|2023-11-17 23:03:...|\n",
            "|      28805|         2021|   2021-02-12|           Books|          240|       1|                 2563|        PayPal|          19|    0.0|      Jose Collier| 19|  Male|    0|2023-11-17 23:03:...|\n",
            "|      28961|         2020|   2020-01-13|           Books|          153|       5|                  698|   Credit Card|          55|    0.0|       James Stein| 55|  Male|    0|2023-11-17 23:03:...|\n",
            "|      12163|         2020|   2020-04-07|           Books|          100|       5|                 1273|          Cash|          67|    0.0|      Sonia Moreno| 67|  Male|    0|2023-11-17 23:03:...|\n",
            "|      28248|         2020|   2020-04-26|           Books|           70|       5|                 1037|        PayPal|          48|    0.0|     Kelly Ramirez| 48|  Male|    1|2023-11-17 23:03:...|\n",
            "|       6761|         2021|   2021-11-29|           Books|          218|       5|                 3034|   Credit Card|          46|    0.0|   Johnny Peterson| 46|Female|    0|2023-11-17 23:03:...|\n",
            "|      17018|         2022|   2022-03-03|           Books|           31|       1|                  268|   Credit Card|          21|    0.0|     Jerry Mendoza| 21|  Male|    0|2023-11-17 23:03:...|\n",
            "|      17018|         2020|   2020-05-10|           Books|          434|       4|                  456|        PayPal|          21|    0.0|     Jerry Mendoza| 21|  Male|    0|2023-11-17 23:03:...|\n",
            "|      11462|         2022|   2022-01-04|           Books|           31|       5|                 1464|          Cash|          32|    0.0|       Cory Wagner| 32|Female|    0|2023-11-17 23:03:...|\n",
            "|      11462|         2023|   2023-02-27|           Books|          284|       3|                  297|        Crypto|          32|    0.0|       Cory Wagner| 32|Female|    0|2023-11-17 23:03:...|\n",
            "|      49593|         2022|   2022-01-08|           Books|          196|       1|                 2550|   Credit Card|          24|    0.0|      Steve Patton| 24|  Male|    1|2023-11-17 23:03:...|\n",
            "|      49593|         2022|   2022-03-31|           Books|          124|       2|                 1848|        Crypto|          24|    0.0|      Steve Patton| 24|  Male|    1|2023-11-17 23:03:...|\n",
            "|      34772|         2020|   2020-08-18|           Books|          313|       3|                 3770|        Crypto|          51|    0.0|  Kimberly Burgess| 51|  Male|    0|2023-11-17 23:03:...|\n",
            "|      34772|         2020|   2020-10-02|           Books|           62|       2|                 2786|   Credit Card|          51|    0.0|  Kimberly Burgess| 51|  Male|    0|2023-11-17 23:03:...|\n",
            "|      25638|         2023|   2023-02-02|           Books|          294|       3|                 1614|        PayPal|          64|    0.0|        Eric Huynh| 64|Female|    0|2023-11-17 23:03:...|\n",
            "|      36664|         2023|   2023-07-19|           Books|          340|       5|                  965|   Credit Card|          22|    0.0|     Scott Calhoun| 22|Female|    1|2023-11-17 23:03:...|\n",
            "|      23703|         2022|   2022-07-07|           Books|          449|       4|                 4067|        PayPal|          19|    0.0|    Gregory Bolton| 19|Female|    1|2023-11-17 23:03:...|\n",
            "|       6089|         2023|   2023-05-23|           Books|           46|       4|                 4767|   Credit Card|          49|    0.0|        Megan Reed| 49|  Male|    0|2023-11-17 23:03:...|\n",
            "|       6089|         2022|   2022-02-17|           Books|          153|       3|                  619|        PayPal|          49|    0.0|        Megan Reed| 49|  Male|    0|2023-11-17 23:03:...|\n",
            "|      43154|         2022|   2022-01-30|           Books|          103|       5|                 3664|        Crypto|          41|    0.0|    Dwayne Shelton| 41|Female|    1|2023-11-17 23:03:...|\n",
            "|      24260|         2020|   2020-09-17|           Books|          413|       4|                 2524|   Credit Card|          27|    0.0|    Linda Williams| 27|  Male|    0|2023-11-17 23:03:...|\n",
            "|      24260|         2021|   2021-05-27|           Books|          198|       4|                  707|          Cash|          27|    0.0|    Linda Williams| 27|  Male|    0|2023-11-17 23:03:...|\n",
            "|      24260|         2021|   2021-03-15|           Books|          414|       5|                 2327|        Crypto|          27|    0.0|    Linda Williams| 27|  Male|    0|2023-11-17 23:03:...|\n",
            "|      15269|         2021|   2021-07-23|           Books|          346|       4|                 3748|   Credit Card|          59|    0.0|      Amanda Davis| 59|Female|    0|2023-11-17 23:03:...|\n",
            "|      39920|         2021|   2021-12-29|           Books|          398|       2|                 5152|   Credit Card|          38|    0.0|  Andrew Zimmerman| 38|Female|    0|2023-11-17 23:03:...|\n",
            "|       6163|         2022|   2022-03-01|           Books|           25|       3|                 4216|        PayPal|          30|    0.0|    Jennifer Klein| 30|  Male|    0|2023-11-17 23:03:...|\n",
            "|       2919|         2022|   2022-08-28|           Books|          430|       3|                 1777|        PayPal|          39|    0.0|        Brian Ward| 39|  Male|    0|2023-11-17 23:03:...|\n",
            "|       2919|         2021|   2021-10-23|           Books|          381|       1|                 1903|   Credit Card|          39|    0.0|        Brian Ward| 39|  Male|    0|2023-11-17 23:03:...|\n",
            "|       2919|         2020|   2020-07-02|           Books|          333|       3|                 4851|        PayPal|          39|    0.0|        Brian Ward| 39|  Male|    0|2023-11-17 23:03:...|\n",
            "|      33320|         2022|   2022-09-13|           Books|           87|       5|                 3926|        PayPal|          21|    0.0|       Laura Vance| 21|  Male|    1|2023-11-17 23:03:...|\n",
            "|      33320|         2020|   2020-07-05|           Books|          480|       1|                 2993|   Credit Card|          21|    0.0|       Laura Vance| 21|  Male|    1|2023-11-17 23:03:...|\n",
            "|      14162|         2020|   2020-03-24|           Books|          489|       4|                 2681|        PayPal|          34|    0.0|    Danielle Davis| 34|  Male|    0|2023-11-17 23:03:...|\n",
            "|      14162|         2021|   2021-06-06|           Books|          371|       2|                 2574|   Credit Card|          34|    0.0|    Danielle Davis| 34|  Male|    0|2023-11-17 23:03:...|\n",
            "|      28501|         2022|   2022-05-21|           Books|          164|       4|                 2301|          Cash|          35|    0.0|     Erin Campbell| 35|  Male|    0|2023-11-17 23:03:...|\n",
            "|      28501|         2020|   2020-07-12|           Books|          224|       1|                 2688|        Crypto|          35|    0.0|     Erin Campbell| 35|  Male|    0|2023-11-17 23:03:...|\n",
            "|      23422|         2023|   2023-06-18|           Books|          348|       3|                  982|        PayPal|          36|    0.0|    Matthew Brooks| 36|  Male|    0|2023-11-17 23:03:...|\n",
            "|      23422|         2020|   2020-11-17|           Books|           83|       1|                 1420|   Credit Card|          36|    0.0|    Matthew Brooks| 36|  Male|    0|2023-11-17 23:03:...|\n",
            "|      23422|         2021|   2021-03-18|           Books|          483|       3|                 1675|          Cash|          36|    0.0|    Matthew Brooks| 36|  Male|    0|2023-11-17 23:03:...|\n",
            "|      32384|         2022|   2022-09-03|           Books|          229|       2|                 2866|   Credit Card|          66|    0.0|    Kristin Harper| 66|Female|    0|2023-11-17 23:03:...|\n",
            "|      32384|         2020|   2020-05-30|           Books|          172|       2|                 2599|          Cash|          66|    0.0|    Kristin Harper| 66|Female|    0|2023-11-17 23:03:...|\n",
            "|      14237|         2022|   2022-10-26|           Books|          226|       4|                 4110|        PayPal|          21|    0.0|      Yvette Rivas| 21|Female|    0|2023-11-17 23:03:...|\n",
            "|      14237|         2021|   2021-08-10|           Books|          477|       2|                 3082|   Credit Card|          21|    0.0|      Yvette Rivas| 21|Female|    0|2023-11-17 23:03:...|\n",
            "|      14237|         2020|   2020-06-14|           Books|          144|       1|                 4411|   Credit Card|          21|    0.0|      Yvette Rivas| 21|Female|    0|2023-11-17 23:03:...|\n",
            "|      10461|         2022|   2022-11-12|           Books|          289|       3|                 2507|          Cash|          59|    0.0|      David Morris| 59|  Male|    0|2023-11-17 23:03:...|\n",
            "|      24866|         2020|   2020-08-21|           Books|           46|       4|                 1793|   Credit Card|          40|    0.0|     Pamela Carter| 40|Female|    0|2023-11-17 23:03:...|\n",
            "|      24866|         2022|   2022-12-13|           Books|          144|       4|                 2113|          Cash|          40|    0.0|     Pamela Carter| 40|Female|    0|2023-11-17 23:03:...|\n",
            "|      48598|         2020|   2020-01-29|           Books|          383|       3|                 1748|          Cash|          48|    0.0|  Brittany Ramirez| 48|Female|    0|2023-11-17 23:03:...|\n",
            "|      30041|         2020|   2020-07-09|           Books|          180|       4|                 3882|        PayPal|          36|    0.0|        Sean Payne| 36|  Male|    1|2023-11-17 23:03:...|\n",
            "|      19511|         2022|   2022-06-04|           Books|          259|       5|                  487|          Cash|          39|    0.0|Jennifer Schroeder| 39|  Male|    1|2023-11-17 23:03:...|\n",
            "+-----------+-------------+-------------+----------------+-------------+--------+---------------------+--------------+------------+-------+------------------+---+------+-----+--------------------+\n",
            "only showing top 50 rows\n",
            "\n"
          ]
        }
      ]
    },
    {
      "cell_type": "markdown",
      "source": [
        "# Goal 4\n",
        "###*Analyzing the revenue in each category over the years*"
      ],
      "metadata": {
        "id": "_I5vJ3CejuWL"
      }
    },
    {
      "cell_type": "code",
      "source": [
        "#Total Product sales over the years\n",
        "spark.sql(\"select Product_Category, SUM(Product_Price) as Sales from rfa group by Product_Category\").show()"
      ],
      "metadata": {
        "colab": {
          "base_uri": "https://localhost:8080/"
        },
        "id": "Zk8NFOlxnxzR",
        "outputId": "f4c4e1cd-83d3-4c8f-af05-2a2daf66b5e7"
      },
      "execution_count": 44,
      "outputs": [
        {
          "output_type": "stream",
          "name": "stdout",
          "text": [
            "+----------------+--------+\n",
            "|Product_Category|   Sales|\n",
            "+----------------+--------+\n",
            "|            Home|10289915|\n",
            "|     Electronics|10349310|\n",
            "|        Clothing|15415042|\n",
            "|           Books|15432741|\n",
            "+----------------+--------+\n",
            "\n"
          ]
        }
      ]
    },
    {
      "cell_type": "code",
      "source": [
        "#Product sales in year 2020\n",
        "spark.sql(\"select Product_Category, SUM(Product_Price) as Sales from rfa where Purchase_year = 2020 group by Product_Category\").show()"
      ],
      "metadata": {
        "colab": {
          "base_uri": "https://localhost:8080/"
        },
        "id": "O2fwWmAZn2Bi",
        "outputId": "e3dcb89a-bd4e-4c9b-e663-2ffcdbf9b578"
      },
      "execution_count": 45,
      "outputs": [
        {
          "output_type": "stream",
          "name": "stdout",
          "text": [
            "+----------------+-------+\n",
            "|Product_Category|  Sales|\n",
            "+----------------+-------+\n",
            "|            Home|2795338|\n",
            "|     Electronics|2809461|\n",
            "|        Clothing|4158653|\n",
            "|           Books|4203745|\n",
            "+----------------+-------+\n",
            "\n"
          ]
        }
      ]
    },
    {
      "cell_type": "code",
      "source": [
        "# Product sales in year 2021\n",
        "spark.sql(\"select Product_Category, SUM(Product_Price) as Sales from rfa where Purchase_year = 2021 group by Product_Category\").show()"
      ],
      "metadata": {
        "colab": {
          "base_uri": "https://localhost:8080/"
        },
        "id": "jpJbPB-jn3ff",
        "outputId": "8f8ab90f-c4b5-4429-b40f-9a1bfe67797e"
      },
      "execution_count": 46,
      "outputs": [
        {
          "output_type": "stream",
          "name": "stdout",
          "text": [
            "+----------------+-------+\n",
            "|Product_Category|  Sales|\n",
            "+----------------+-------+\n",
            "|            Home|2814963|\n",
            "|     Electronics|2813062|\n",
            "|        Clothing|4156609|\n",
            "|           Books|4099013|\n",
            "+----------------+-------+\n",
            "\n"
          ]
        }
      ]
    },
    {
      "cell_type": "code",
      "source": [
        "#Product sales in year 2022\n",
        "spark.sql(\"select Product_Category, SUM(Product_Price) as Sales from rfa where Purchase_year = 2022 group by Product_Category\").show()"
      ],
      "metadata": {
        "colab": {
          "base_uri": "https://localhost:8080/"
        },
        "id": "XSHZD9UYn4Ex",
        "outputId": "5d25a98d-6496-4421-8441-434884d0ab77"
      },
      "execution_count": 47,
      "outputs": [
        {
          "output_type": "stream",
          "name": "stdout",
          "text": [
            "+----------------+-------+\n",
            "|Product_Category|  Sales|\n",
            "+----------------+-------+\n",
            "|            Home|2743828|\n",
            "|     Electronics|2762286|\n",
            "|        Clothing|4141310|\n",
            "|           Books|4116428|\n",
            "+----------------+-------+\n",
            "\n"
          ]
        }
      ]
    },
    {
      "cell_type": "code",
      "source": [
        "#Product sales in year 20233\n",
        "spark.sql(\"select Product_Category, SUM(Product_Price) as Sales from rfa where Purchase_year = 2023 group by Product_Category\").show()"
      ],
      "metadata": {
        "colab": {
          "base_uri": "https://localhost:8080/"
        },
        "id": "lTVUR5cEj-XF",
        "outputId": "54ec5e92-2ac7-4436-ad74-665ae134d645"
      },
      "execution_count": 48,
      "outputs": [
        {
          "output_type": "stream",
          "name": "stdout",
          "text": [
            "+----------------+-------+\n",
            "|Product_Category|  Sales|\n",
            "+----------------+-------+\n",
            "|            Home|1935786|\n",
            "|     Electronics|1964501|\n",
            "|        Clothing|2958470|\n",
            "|           Books|3013555|\n",
            "+----------------+-------+\n",
            "\n"
          ]
        }
      ]
    },
    {
      "cell_type": "markdown",
      "source": [
        "#Goal_5\n",
        "###*Analyszing the product sales based upon the customer age groups*"
      ],
      "metadata": {
        "id": "F91PiVfws071"
      }
    },
    {
      "cell_type": "code",
      "source": [
        "spark.sql(\"select Product_Category, Customer_Age, SUM(Product_Price) as Sales from rfa group by Product_Category, Customer_Age order by Product_Category, Customer_Age\").show(100)"
      ],
      "metadata": {
        "colab": {
          "base_uri": "https://localhost:8080/"
        },
        "id": "Ud8eIRFbtIvA",
        "outputId": "6cd2f2c3-14f9-4bfa-8a0f-2e501451ac58"
      },
      "execution_count": 61,
      "outputs": [
        {
          "output_type": "stream",
          "name": "stdout",
          "text": [
            "+----------------+------------+------+\n",
            "|Product_Category|Customer_Age| Sales|\n",
            "+----------------+------------+------+\n",
            "|           Books|          18|311523|\n",
            "|           Books|          19|300083|\n",
            "|           Books|          20|277736|\n",
            "|           Books|          21|322476|\n",
            "|           Books|          22|293266|\n",
            "|           Books|          23|289077|\n",
            "|           Books|          24|280115|\n",
            "|           Books|          25|291175|\n",
            "|           Books|          26|269283|\n",
            "|           Books|          27|298864|\n",
            "|           Books|          28|296725|\n",
            "|           Books|          29|296411|\n",
            "|           Books|          30|300448|\n",
            "|           Books|          31|294492|\n",
            "|           Books|          32|270264|\n",
            "|           Books|          33|303621|\n",
            "|           Books|          34|292898|\n",
            "|           Books|          35|271999|\n",
            "|           Books|          36|283290|\n",
            "|           Books|          37|299425|\n",
            "|           Books|          38|295426|\n",
            "|           Books|          39|289097|\n",
            "|           Books|          40|287965|\n",
            "|           Books|          41|306618|\n",
            "|           Books|          42|317628|\n",
            "|           Books|          43|274540|\n",
            "|           Books|          44|295909|\n",
            "|           Books|          45|287354|\n",
            "|           Books|          46|291324|\n",
            "|           Books|          47|286219|\n",
            "|           Books|          48|287202|\n",
            "|           Books|          49|305147|\n",
            "|           Books|          50|284976|\n",
            "|           Books|          51|308031|\n",
            "|           Books|          52|280015|\n",
            "|           Books|          53|280562|\n",
            "|           Books|          54|272064|\n",
            "|           Books|          55|277320|\n",
            "|           Books|          56|294127|\n",
            "|           Books|          57|271094|\n",
            "|           Books|          58|309527|\n",
            "|           Books|          59|287874|\n",
            "|           Books|          60|290227|\n",
            "|           Books|          61|300599|\n",
            "|           Books|          62|286044|\n",
            "|           Books|          63|281271|\n",
            "|           Books|          64|297889|\n",
            "|           Books|          65|288622|\n",
            "|           Books|          66|292521|\n",
            "|           Books|          67|290992|\n",
            "|           Books|          68|289680|\n",
            "|           Books|          69|286357|\n",
            "|           Books|          70|295349|\n",
            "|        Clothing|          18|332825|\n",
            "|        Clothing|          19|300073|\n",
            "|        Clothing|          20|302690|\n",
            "|        Clothing|          21|309788|\n",
            "|        Clothing|          22|287674|\n",
            "|        Clothing|          23|286113|\n",
            "|        Clothing|          24|296405|\n",
            "|        Clothing|          25|295819|\n",
            "|        Clothing|          26|293650|\n",
            "|        Clothing|          27|306541|\n",
            "|        Clothing|          28|287989|\n",
            "|        Clothing|          29|271214|\n",
            "|        Clothing|          30|298730|\n",
            "|        Clothing|          31|286292|\n",
            "|        Clothing|          32|273455|\n",
            "|        Clothing|          33|288551|\n",
            "|        Clothing|          34|301894|\n",
            "|        Clothing|          35|282210|\n",
            "|        Clothing|          36|276683|\n",
            "|        Clothing|          37|284452|\n",
            "|        Clothing|          38|287291|\n",
            "|        Clothing|          39|292344|\n",
            "|        Clothing|          40|296292|\n",
            "|        Clothing|          41|301780|\n",
            "|        Clothing|          42|291324|\n",
            "|        Clothing|          43|308235|\n",
            "|        Clothing|          44|266462|\n",
            "|        Clothing|          45|293927|\n",
            "|        Clothing|          46|321617|\n",
            "|        Clothing|          47|284240|\n",
            "|        Clothing|          48|268859|\n",
            "|        Clothing|          49|284063|\n",
            "|        Clothing|          50|284754|\n",
            "|        Clothing|          51|300684|\n",
            "|        Clothing|          52|289044|\n",
            "|        Clothing|          53|272753|\n",
            "|        Clothing|          54|278614|\n",
            "|        Clothing|          55|297668|\n",
            "|        Clothing|          56|298961|\n",
            "|        Clothing|          57|275569|\n",
            "|        Clothing|          58|309338|\n",
            "|        Clothing|          59|271954|\n",
            "|        Clothing|          60|291181|\n",
            "|        Clothing|          61|287656|\n",
            "|        Clothing|          62|284379|\n",
            "|        Clothing|          63|283001|\n",
            "|        Clothing|          64|304499|\n",
            "+----------------+------------+------+\n",
            "only showing top 100 rows\n",
            "\n"
          ]
        }
      ]
    }
  ]
}